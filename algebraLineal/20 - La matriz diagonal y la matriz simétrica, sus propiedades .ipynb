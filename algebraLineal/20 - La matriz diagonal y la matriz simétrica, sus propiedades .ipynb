{
 "cells": [
  {
   "cell_type": "code",
   "execution_count": 3,
   "metadata": {},
   "outputs": [],
   "source": [
    "import numpy as np"
   ]
  },
  {
   "cell_type": "code",
   "execution_count": 4,
   "metadata": {},
   "outputs": [
    {
     "name": "stdout",
     "output_type": "stream",
     "text": [
      "[[1 0 0]\n",
      " [0 1 0]\n",
      " [0 0 1]]\n"
     ]
    }
   ],
   "source": [
    "#Matriz Identidad\n",
    " #Es el elemento NEUTRO del producto interno (Identidad)\n",
    "\n",
    "diagonal = np.array([ [1,0,0], [0,1,0], [0,0,1] ])\n",
    "print(diagonal)"
   ]
  },
  {
   "cell_type": "code",
   "execution_count": 6,
   "metadata": {},
   "outputs": [],
   "source": [
    "#Matriz Inversa\n",
    " #Es la cual, al multiplicarse por su NO inversa,\n",
    " #se obtiene la identidad -> A*A_Inversa = Identidad"
   ]
  },
  {
   "cell_type": "code",
   "execution_count": 8,
   "metadata": {},
   "outputs": [],
   "source": [
    "#Matriz Singular\n",
    " #La cual NO existe su inversa\n"
   ]
  },
  {
   "cell_type": "code",
   "execution_count": 9,
   "metadata": {},
   "outputs": [
    {
     "name": "stdout",
     "output_type": "stream",
     "text": [
      "[[1 0 0 0 0]\n",
      " [0 2 0 0 0]\n",
      " [0 0 3 0 0]\n",
      " [0 0 0 4 0]\n",
      " [0 0 0 0 5]]\n"
     ]
    }
   ],
   "source": [
    "#Matriz diagonal\n",
    "\n",
    "vector = np.array([1,2,3,4,5])\n",
    "\n",
    "matriz = np.diag(vector)\n",
    "\n",
    "print(matriz)"
   ]
  },
  {
   "cell_type": "code",
   "execution_count": 13,
   "metadata": {},
   "outputs": [
    {
     "name": "stdout",
     "output_type": "stream",
     "text": [
      "[[1 0 0]\n",
      " [0 2 0]\n",
      " [0 0 3]\n",
      " [0 0 0]]\n",
      "\n",
      "\n",
      "[[1 0 0 0]\n",
      " [0 2 0 0]\n",
      " [0 0 3 0]]\n"
     ]
    }
   ],
   "source": [
    "#Matriz diagonal NO cuadrada\n",
    "print(matriz[0:4,0:3])\n",
    "print(\"\\n\")\n",
    "\n",
    "#o también...\n",
    "print(matriz[0:3,0:4])"
   ]
  },
  {
   "cell_type": "code",
   "execution_count": 14,
   "metadata": {},
   "outputs": [
    {
     "name": "stdout",
     "output_type": "stream",
     "text": [
      "[[2 0 0 0]\n",
      " [0 3 0 0]\n",
      " [0 0 4 0]\n",
      " [0 0 0 5]]\n"
     ]
    }
   ],
   "source": [
    "A = np.diag([2,3,4,5])\n",
    "print(A)"
   ]
  },
  {
   "cell_type": "code",
   "execution_count": 17,
   "metadata": {},
   "outputs": [
    {
     "name": "stdout",
     "output_type": "stream",
     "text": [
      "[[1 1 1 1]]\n",
      "\n",
      "\n",
      "[[2]\n",
      " [3]\n",
      " [4]\n",
      " [5]]\n"
     ]
    }
   ],
   "source": [
    "v1 = np.array([[1,1,1,1]])\n",
    "print(v1)\n",
    "\n",
    "print(\"\\n\")\n",
    "\n",
    "print(A.dot(v1.T))"
   ]
  },
  {
   "cell_type": "code",
   "execution_count": 24,
   "metadata": {},
   "outputs": [
    {
     "name": "stdout",
     "output_type": "stream",
     "text": [
      "[[0.5        0.         0.         0.        ]\n",
      " [0.         0.33333333 0.         0.        ]\n",
      " [0.         0.         0.25       0.        ]\n",
      " [0.         0.         0.         0.2       ]]\n"
     ]
    }
   ],
   "source": [
    "A_inv = np.diag([1/2,1/3, 1/4, 1/5])\n",
    "\n",
    "print(A_inv)"
   ]
  },
  {
   "cell_type": "code",
   "execution_count": 25,
   "metadata": {},
   "outputs": [
    {
     "name": "stdout",
     "output_type": "stream",
     "text": [
      "[[1. 0. 0. 0.]\n",
      " [0. 1. 0. 0.]\n",
      " [0. 0. 1. 0.]\n",
      " [0. 0. 0. 1.]]\n"
     ]
    }
   ],
   "source": [
    "#Manualmente calculamos la matriz inversa\n",
    "\n",
    "identidad = A.dot(A_inv)\n",
    "print(identidad)"
   ]
  },
  {
   "cell_type": "code",
   "execution_count": 26,
   "metadata": {},
   "outputs": [
    {
     "name": "stdout",
     "output_type": "stream",
     "text": [
      "[[0.5        0.         0.         0.        ]\n",
      " [0.         0.33333333 0.         0.        ]\n",
      " [0.         0.         0.25       0.        ]\n",
      " [0.         0.         0.         0.2       ]]\n"
     ]
    }
   ],
   "source": [
    "#Lo corroboramos con el metodo de linear algebra de python\n",
    "\n",
    "A_inv_calc = np.linalg.inv(A)\n",
    "\n",
    "print(A_inv_calc)"
   ]
  },
  {
   "cell_type": "code",
   "execution_count": 28,
   "metadata": {},
   "outputs": [],
   "source": [
    "#MATRIZ SIMÉTRICA\n",
    " #Es cuando su traspuesta es igual a la matriz\n",
    " #A = A_traspuesta\n",
    " #entonces... matriz diagonal = matriz simétrica"
   ]
  },
  {
   "cell_type": "code",
   "execution_count": 30,
   "metadata": {},
   "outputs": [
    {
     "name": "stdout",
     "output_type": "stream",
     "text": [
      "[[2 0 0 0]\n",
      " [0 3 0 0]\n",
      " [0 0 4 0]\n",
      " [0 0 0 5]]\n",
      "\n",
      "\n",
      "[[2 0 0 0]\n",
      " [0 3 0 0]\n",
      " [0 0 4 0]\n",
      " [0 0 0 5]]\n"
     ]
    }
   ],
   "source": [
    "#SIMETRICA\n",
    "\n",
    "print(A.T)\n",
    "print(\"\\n\")\n",
    "print(A)"
   ]
  },
  {
   "cell_type": "code",
   "execution_count": 32,
   "metadata": {},
   "outputs": [
    {
     "name": "stdout",
     "output_type": "stream",
     "text": [
      "[[ 1  2  3]\n",
      " [ 2 -1  7]\n",
      " [ 3  7 11]]\n"
     ]
    }
   ],
   "source": [
    "simetrica = np.array([ [1,2,3], [2,-1,7], [3,7,11] ])\n",
    "\n",
    "print(simetrica)"
   ]
  },
  {
   "cell_type": "code",
   "execution_count": 33,
   "metadata": {},
   "outputs": [
    {
     "name": "stdout",
     "output_type": "stream",
     "text": [
      "[[ 1  2  3]\n",
      " [ 2 -1  7]\n",
      " [ 3  7 11]]\n"
     ]
    }
   ],
   "source": [
    "print(simetrica.T)"
   ]
  },
  {
   "cell_type": "code",
   "execution_count": null,
   "metadata": {},
   "outputs": [],
   "source": []
  }
 ],
 "metadata": {
  "kernelspec": {
   "display_name": "Python 3",
   "language": "python",
   "name": "python3"
  },
  "language_info": {
   "codemirror_mode": {
    "name": "ipython",
    "version": 3
   },
   "file_extension": ".py",
   "mimetype": "text/x-python",
   "name": "python",
   "nbconvert_exporter": "python",
   "pygments_lexer": "ipython3",
   "version": "3.7.4"
  }
 },
 "nbformat": 4,
 "nbformat_minor": 2
}
