{
 "cells": [
  {
   "cell_type": "code",
   "execution_count": 1,
   "metadata": {},
   "outputs": [],
   "source": [
    "#Tipos de normas utilizadas en machine learning\n",
    "\n",
    "#Llamaremos a las normas con la letra 'L'\n",
    "\n",
    "#L0: Cantidad de elementos de nuestro vector distintos de 0\n",
    "\n",
    "#L1: Suma sobre i de los valores absolutos de los componentes de nuestro vector\n",
    "\n",
    "#L2: Distancia eclideana, distancia que calculamos para saber cuanto mide\n",
    " #un vector hasta el origen\n",
    "\n",
    "#(L2)^2 : La misma distancia L2 pero SIN calcular la raiz cuadrada. Ventaja es que podemos calcular la norma de un\n",
    "#vector aplicando el producto interno del vector contra si mismo -> x.dot(x.T)\n",
    "\n",
    "#L_infinito : El mayor valor dentro de los valores absolutos de nuestro vector\n"
   ]
  },
  {
   "cell_type": "code",
   "execution_count": 2,
   "metadata": {},
   "outputs": [],
   "source": [
    "import numpy as np"
   ]
  },
  {
   "cell_type": "code",
   "execution_count": 6,
   "metadata": {},
   "outputs": [
    {
     "name": "stdout",
     "output_type": "stream",
     "text": [
      "4.0\n"
     ]
    }
   ],
   "source": [
    "#NORMA 0 \n",
    "#Ej uso práctico: Saber, de una base de datos de usuarios, la cantidad de usuarios con algun tipo de parametro \n",
    " #distinto a 0\n",
    "\n",
    "vector = np.array([1,2,0,5,6,0])\n",
    "\n",
    "#L0: Nos debería devolver 4, ya que son los elementos distintos de 0\n",
    "print(np.linalg.norm(vector, ord=0))"
   ]
  },
  {
   "cell_type": "code",
   "execution_count": 8,
   "metadata": {},
   "outputs": [
    {
     "name": "stdout",
     "output_type": "stream",
     "text": [
      "5.0\n"
     ]
    }
   ],
   "source": [
    "#NORMA 1\n",
    "\n",
    "#Devuelve la suma de todos los valores absolutos de los elementos\n",
    "\n",
    "vector = np.array([1,-1,1,-1,1])\n",
    "\n",
    "print(np.linalg.norm(vector, ord=1))"
   ]
  },
  {
   "cell_type": "code",
   "execution_count": 9,
   "metadata": {},
   "outputs": [],
   "source": [
    "#NORMA 2\n",
    "\n",
    "vector = np.array([1,1])\n",
    "\n",
    "#Al graficar el vector anterior, tenemos una linea de x=1, y=1. La distancia eclideana será de √x+y\n",
    " #en este caso en particular seria -> √1+1 -> √2 = 1.4142"
   ]
  },
  {
   "cell_type": "code",
   "execution_count": 13,
   "metadata": {},
   "outputs": [
    {
     "name": "stdout",
     "output_type": "stream",
     "text": [
      "1.4142135623730951\n",
      "1.4142135623730951\n"
     ]
    }
   ],
   "source": [
    "print(np.linalg.norm(vector))\n",
    "print(np.linalg.norm(vector, ord = 2))"
   ]
  },
  {
   "cell_type": "code",
   "execution_count": 14,
   "metadata": {},
   "outputs": [
    {
     "name": "stdout",
     "output_type": "stream",
     "text": [
      "[1 2 3 4 5 6]\n"
     ]
    }
   ],
   "source": [
    "#NORMA 2 ^2\n",
    "\n",
    "#Comprobamos que la norma 2 al cuadrado de un vector es igual al producto interno del vector traspuesto por si mismo\n",
    "\n",
    "vector = np.array([1,2,3,4,5,6])\n",
    "print(vector)"
   ]
  },
  {
   "cell_type": "code",
   "execution_count": 15,
   "metadata": {},
   "outputs": [
    {
     "name": "stdout",
     "output_type": "stream",
     "text": [
      "91.0\n"
     ]
    }
   ],
   "source": [
    "#El **2 es para elevar al cuadrado\n",
    "print(np.linalg.norm(vector, ord = 2)**2)"
   ]
  },
  {
   "cell_type": "code",
   "execution_count": 16,
   "metadata": {},
   "outputs": [
    {
     "name": "stdout",
     "output_type": "stream",
     "text": [
      "91\n"
     ]
    }
   ],
   "source": [
    "print(vector.T.dot(vector))"
   ]
  },
  {
   "cell_type": "code",
   "execution_count": 20,
   "metadata": {},
   "outputs": [
    {
     "name": "stdout",
     "output_type": "stream",
     "text": [
      "100.0\n"
     ]
    }
   ],
   "source": [
    "#Norma Infinito\n",
    " #Nos devuelve el valor absoluto más alto \n",
    "\n",
    "vector = np.array([1,2,3,-100])\n",
    "\n",
    "print(np.linalg.norm(vector, ord = np.inf))"
   ]
  },
  {
   "cell_type": "code",
   "execution_count": null,
   "metadata": {},
   "outputs": [],
   "source": []
  }
 ],
 "metadata": {
  "kernelspec": {
   "display_name": "Python 3",
   "language": "python",
   "name": "python3"
  },
  "language_info": {
   "codemirror_mode": {
    "name": "ipython",
    "version": 3
   },
   "file_extension": ".py",
   "mimetype": "text/x-python",
   "name": "python",
   "nbconvert_exporter": "python",
   "pygments_lexer": "ipython3",
   "version": "3.7.5"
  }
 },
 "nbformat": 4,
 "nbformat_minor": 2
}
