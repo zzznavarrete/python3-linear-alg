{
 "cells": [
  {
   "cell_type": "code",
   "execution_count": 3,
   "metadata": {},
   "outputs": [],
   "source": [
    "%matplotlib inline\n",
    "\n",
    "import numpy as np \n",
    "import matplotlib.pyplot as plt"
   ]
  },
  {
   "cell_type": "code",
   "execution_count": 4,
   "metadata": {},
   "outputs": [
    {
     "name": "stdout",
     "output_type": "stream",
     "text": [
      "[1 1]\n",
      "[-1 -1]\n"
     ]
    }
   ],
   "source": [
    "v1 = np.array([1,1])\n",
    "v2 = np.array([-1,-1])\n",
    "print(v1)\n",
    "print(v2)"
   ]
  },
  {
   "cell_type": "code",
   "execution_count": 7,
   "metadata": {},
   "outputs": [
    {
     "data": {
      "text/plain": [
       "<matplotlib.lines.Line2D at 0x11add6350>"
      ]
     },
     "execution_count": 7,
     "metadata": {},
     "output_type": "execute_result"
    },
    {
     "data": {
      "image/png": "[encoded data removed]",
      "text/plain": [
       "<Figure size 432x288 with 1 Axes>"
      ]
     },
     "metadata": {
      "needs_background": "light"
     },
     "output_type": "display_data"
    }
   ],
   "source": [
    "for a in range(-10,10):\n",
    "    for b in range(-10,10):\n",
    "        plt.scatter(v1[0]*a + v2[0]*b, v1[1]*a + v2[1]*b,\n",
    "                   marker = '.',\n",
    "                   color = 'orange')\n",
    "        \n",
    "plt.xlim(-25,25)\n",
    "plt.ylim(-25,25)\n",
    "\n",
    "plt.axvline(x=0, color='grey')\n",
    "plt.axhline(y=0, color='grey')"
   ]
  },
  {
   "cell_type": "code",
   "execution_count": 8,
   "metadata": {},
   "outputs": [],
   "source": [
    "#Ahora bien, teniendo lo anterior, si quisieramos tomar nuestra recta con los vectores -1,1 para escribir\n",
    "#Una solución a un sistema de ecuaciones = ([-1,1], [-1,1])*([x1,x2]) = [-10, 10]\n",
    "\n",
    "#Logicamente NO se podría ya que tomando el -10 como X; 10 como Y; la perpendicular que haría en la recta NO estaría\n",
    "#dentro de nuestra recta anterior, ya que sería -10X (negativo) con 10Y (Positivo), quedaría traspuesto a nuestra recta\n",
    "\n",
    "#Y esto es porque nuestros vectores NO son linealmente \"independientes\", la consecuencia con esto es que,\n",
    "#nos quedamos con una dimensión menos. Más allá de que nuestra matriz en principio parece cuadrada... pero NO todos\n",
    "#sus vectores son linealmente independientes.\n",
    "\n",
    "#¿CUALES SON LOS VECTORES LINEALMENTE INDEPENDIENTES?\n",
    "#Los que NO se pueden escribir, como combinación lineal de los otros vectores\n",
    "#Visto de otra manera, si vemos el espacio generado, por v1 o v2, es el MISMO espacio generado si usaramos solo\n",
    "#v1 o v2, es decir, si usamos los dos vectores al mismo tiempo NO NOS aporta más información que si usaramos sólo 1...\n",
    "\n"
   ]
  },
  {
   "cell_type": "code",
   "execution_count": 9,
   "metadata": {},
   "outputs": [],
   "source": [
    "#Corroborando que no son linealmente independientes"
   ]
  },
  {
   "cell_type": "code",
   "execution_count": 10,
   "metadata": {},
   "outputs": [
    {
     "name": "stdout",
     "output_type": "stream",
     "text": [
      "[ True  True]\n"
     ]
    }
   ],
   "source": [
    "print(v1 == (-1 * v2))"
   ]
  }
 ],
 "metadata": {
  "kernelspec": {
   "display_name": "Python 3",
   "language": "python",
   "name": "python3"
  },
  "language_info": {
   "codemirror_mode": {
    "name": "ipython",
    "version": 3
   },
   "file_extension": ".py",
   "mimetype": "text/x-python",
   "name": "python",
   "nbconvert_exporter": "python",
   "pygments_lexer": "ipython3",
   "version": "3.7.4"
  }
 },
 "nbformat": 4,
 "nbformat_minor": 2
}
