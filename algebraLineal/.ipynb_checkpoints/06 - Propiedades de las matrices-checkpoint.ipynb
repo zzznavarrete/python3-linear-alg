{
 "cells": [
  {
   "cell_type": "code",
   "execution_count": 1,
   "metadata": {},
   "outputs": [],
   "source": [
    "#Propiedades de las operaciones de matrices\n",
    "\n",
    "#Asociativa\n",
    " #A*(B*C) = (A*B)*C\n",
    "    \n",
    "#Distributiva\n",
    " #A*(B+C) = (A*B) + (A*C)\n",
    "\n",
    "#(OJO, NO ES Commutativa)\n",
    " #B*C != C*B\n"
   ]
  },
  {
   "cell_type": "code",
   "execution_count": 2,
   "metadata": {},
   "outputs": [],
   "source": [
    "import numpy as np"
   ]
  },
  {
   "cell_type": "code",
   "execution_count": 3,
   "metadata": {},
   "outputs": [],
   "source": [
    "A = np.array([ [2,3], [5,7], [11,13] ])\n",
    "B = np.array([ [1,3], [2,1] ])\n",
    "C = np.array([ [3,1], [4,2] ])"
   ]
  },
  {
   "cell_type": "code",
   "execution_count": 9,
   "metadata": {},
   "outputs": [
    {
     "name": "stdout",
     "output_type": "stream",
     "text": [
      "[[ 60  26]\n",
      " [145  63]\n",
      " [295 129]]\n",
      "\n",
      "**********\n",
      "\n",
      "[[ 60  26]\n",
      " [145  63]\n",
      " [295 129]]\n"
     ]
    }
   ],
   "source": [
    "# Asociativa \n",
    "ABC = A.dot(B.dot(C))\n",
    "print(ABC)\n",
    "print(\"\\n**********\\n\")\n",
    "ABC_2 = A.dot(B).dot(C)\n",
    "print(ABC_2)"
   ]
  },
  {
   "cell_type": "code",
   "execution_count": 15,
   "metadata": {},
   "outputs": [
    {
     "name": "stdout",
     "output_type": "stream",
     "text": [
      "[[ 26  17]\n",
      " [ 62  41]\n",
      " [122  83]]\n",
      "\n",
      "**********\n",
      "\n",
      "[[ 26  17]\n",
      " [ 62  41]\n",
      " [122  83]]\n",
      "\n",
      "**********\n",
      "\n",
      "[[ True  True]\n",
      " [ True  True]\n",
      " [ True  True]]\n"
     ]
    }
   ],
   "source": [
    "# Distributiva \n",
    "D = A.dot(B+C)\n",
    "print(D)\n",
    "\n",
    "E = (A.dot(B))+(A.dot(C))\n",
    "print(\"\\n**********\\n\")\n",
    "print(E)\n",
    "\n",
    "print(\"\\n**********\\n\")\n",
    "\n",
    "print(D==E)"
   ]
  },
  {
   "cell_type": "code",
   "execution_count": 19,
   "metadata": {},
   "outputs": [
    {
     "name": "stdout",
     "output_type": "stream",
     "text": [
      "[[15  7]\n",
      " [10  4]]\n",
      "\n",
      "**********\n",
      "\n",
      "[[ 5 10]\n",
      " [ 8 14]]\n",
      "\n",
      "**********\n",
      "\n",
      "[[False False]\n",
      " [False False]]\n"
     ]
    }
   ],
   "source": [
    "# Conmutativa\n",
    "\n",
    "F = B.dot(C)\n",
    "print(F)\n",
    "\n",
    "print(\"\\n**********\\n\")\n",
    "\n",
    "G = C.dot(B)\n",
    "print(G)\n",
    "\n",
    "print(\"\\n**********\\n\")\n",
    "print(F==G)"
   ]
  },
  {
   "cell_type": "code",
   "execution_count": 22,
   "metadata": {},
   "outputs": [],
   "source": [
    "#Ojo, pero la multiplicacion de vectores si es conmutativa\n",
    "\n",
    "vector_1 = np.array([[2],[7]])\n",
    "vector_2 = np.array([[3],[5]])"
   ]
  },
  {
   "cell_type": "code",
   "execution_count": 26,
   "metadata": {},
   "outputs": [
    {
     "name": "stdout",
     "output_type": "stream",
     "text": [
      "[[41]]\n",
      "\n",
      "**********\n",
      "\n",
      "[[41]]\n"
     ]
    }
   ],
   "source": [
    "vector_1_traspuesto = vector_1.T.dot(vector_2)\n",
    "print(vector_1_traspuesto)\n",
    "print(\"\\n**********\\n\")\n",
    "vector_2_traspuesto = vector_2.T.dot(vector_1)\n",
    "print(vector_2_traspuesto)\n"
   ]
  },
  {
   "cell_type": "code",
   "execution_count": null,
   "metadata": {},
   "outputs": [],
   "source": []
  }
 ],
 "metadata": {
  "kernelspec": {
   "display_name": "Python 3",
   "language": "python",
   "name": "python3"
  },
  "language_info": {
   "codemirror_mode": {
    "name": "ipython",
    "version": 3
   },
   "file_extension": ".py",
   "mimetype": "text/x-python",
   "name": "python",
   "nbconvert_exporter": "python",
   "pygments_lexer": "ipython3",
   "version": "3.7.4"
  }
 },
 "nbformat": 4,
 "nbformat_minor": 2
}
