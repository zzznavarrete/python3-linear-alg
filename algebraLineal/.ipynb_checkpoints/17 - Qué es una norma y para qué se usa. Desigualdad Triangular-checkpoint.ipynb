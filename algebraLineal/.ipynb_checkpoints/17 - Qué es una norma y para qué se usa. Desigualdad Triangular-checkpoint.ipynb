{
 "cells": [
  {
   "cell_type": "code",
   "execution_count": 1,
   "metadata": {},
   "outputs": [],
   "source": [
    "#A veces se necesita medir el tamaño de un vector\n",
    "#La norma recibe de entrada un vector y le asocia un numero (que no puede ser negativo),\n",
    "\n",
    "#¿por que querriamos medir el tamaño de un vector??\n",
    "#por ej, si queremos saber cual es el error que estamos cometiendo al hacer algunas aproximaciones o predicciones"
   ]
  },
  {
   "cell_type": "code",
   "execution_count": 2,
   "metadata": {},
   "outputs": [],
   "source": [
    "#Propiedades de una norma\n",
    "\n",
    "#1) La norma de un vector v tiene que ser mayor o igual a 0\n",
    "#norma(v) >= 0\n",
    "\n",
    "#2) La normal de un vector es 0 SI...N el vector = 0\n",
    "#norma(v) = <=> v = 0\n",
    "\n",
    "#3) Desigualdad triangular\n",
    "#Si tenemos 2 vectores (1 y 2) y realizamos la suma de ambos (ahora vector 3) y calculamos sus normas, \n",
    " #la normal del vector 3 será menor o igual a la suma de las normas de vector 1 y vector 2\n",
    "#Lo anterior se puede interpretar que la distancia mas corta entre un punto y otro es una linea recta, y si\n",
    " #intentamos ir por cualquier otro camino, siempre será más largo.\n",
    "    \n",
    "    \n",
    "#4) La norma de un vector por un escalar, es igual al valor absoluto del escalar por la norma del vector original"
   ]
  },
  {
   "cell_type": "code",
   "execution_count": 4,
   "metadata": {},
   "outputs": [],
   "source": [
    "%matplotlib inline\n",
    "\n",
    "import numpy as np\n",
    "import matplotlib.pyplot as plt\n",
    "import seaborn as sns"
   ]
  },
  {
   "cell_type": "code",
   "execution_count": 5,
   "metadata": {},
   "outputs": [
    {
     "name": "stdout",
     "output_type": "stream",
     "text": [
      "[2 7]\n",
      "[3 5]\n"
     ]
    }
   ],
   "source": [
    "v1 = np.array([2,7])\n",
    "v2 = np.array([3,5])\n",
    "\n",
    "print(v1)\n",
    "print(v2)"
   ]
  },
  {
   "cell_type": "code",
   "execution_count": 6,
   "metadata": {},
   "outputs": [
    {
     "name": "stdout",
     "output_type": "stream",
     "text": [
      "[ 5 12]\n"
     ]
    }
   ],
   "source": [
    "v1v2 = v1+v2\n",
    "print(v1v2)"
   ]
  },
  {
   "cell_type": "code",
   "execution_count": 7,
   "metadata": {},
   "outputs": [
    {
     "data": {
      "text/plain": [
       "13.0"
      ]
     },
     "execution_count": 7,
     "metadata": {},
     "output_type": "execute_result"
    }
   ],
   "source": [
    "#Calculando la norma\n",
    "\n",
    "np.linalg.norm(v1v2)"
   ]
  },
  {
   "cell_type": "code",
   "execution_count": 10,
   "metadata": {},
   "outputs": [
    {
     "name": "stdout",
     "output_type": "stream",
     "text": [
      "True\n"
     ]
    }
   ],
   "source": [
    "#Comprobando la desigualdad triangular\n",
    "#norma(v1v2) <= norma(v1) + norma(v2)\n",
    "\n",
    "norma_v1 = np.linalg.norm(v1)\n",
    "norma_v2 = np.linalg.norm(v2)\n",
    "norma_v1v2 = np.linalg.norm(v1v2)\n",
    "\n",
    "print (norma_v1v2 <= (norma_v1+norma_v2))"
   ]
  },
  {
   "cell_type": "code",
   "execution_count": 12,
   "metadata": {},
   "outputs": [
    {
     "name": "stdout",
     "output_type": "stream",
     "text": [
      "13.11106178412582\n"
     ]
    }
   ],
   "source": [
    "print(norma_v1+norma_v2)"
   ]
  },
  {
   "cell_type": "code",
   "execution_count": 23,
   "metadata": {},
   "outputs": [],
   "source": [
    "#GRAFICANDO LA 3ra NORMA (DESIGUALDAD TRIANGULAR)\n",
    "\n",
    "\n",
    "v1 = np.array([0,0,2,7])\n",
    "v2 = np.array([0,0,3,5])\n",
    "\n",
    "v1_aux = np.array([v1[2], v1[3], v2[2], v2[3]])\n",
    "\n",
    "v1v2 = np.array([0,0,5,12])"
   ]
  },
  {
   "cell_type": "code",
   "execution_count": 24,
   "metadata": {},
   "outputs": [
    {
     "data": {
      "text/plain": [
       "(-0.5, 15)"
      ]
     },
     "execution_count": 24,
     "metadata": {},
     "output_type": "execute_result"
    },
    {
     "data": {
      "image/png": "[encoded data removed]",
      "text/plain": [
       "<Figure size 432x288 with 1 Axes>"
      ]
     },
     "metadata": {
      "needs_background": "light"
     },
     "output_type": "display_data"
    }
   ],
   "source": [
    "plt.quiver([v1[0], v1_aux[0], v1v2[0]],\n",
    "           [v1[1], v1_aux[1], v1v2[1]],\n",
    "           [v1[2], v1_aux[2], v1v2[2]],\n",
    "           [v1[3], v1_aux[3], v1v2[3]],\n",
    "           angles = 'xy', scale_units = 'xy', scale = 1,\n",
    "           color= sns.color_palette()\n",
    "          )\n",
    "\n",
    "plt.xlim(-0.5,6)\n",
    "plt.ylim(-0.5,15)\n"
   ]
  },
  {
   "cell_type": "code",
   "execution_count": null,
   "metadata": {},
   "outputs": [],
   "source": []
  }
 ],
 "metadata": {
  "kernelspec": {
   "display_name": "Python 3",
   "language": "python",
   "name": "python3"
  },
  "language_info": {
   "codemirror_mode": {
    "name": "ipython",
    "version": 3
   },
   "file_extension": ".py",
   "mimetype": "text/x-python",
   "name": "python",
   "nbconvert_exporter": "python",
   "pygments_lexer": "ipython3",
   "version": "3.7.4"
  }
 },
 "nbformat": 4,
 "nbformat_minor": 2
}
