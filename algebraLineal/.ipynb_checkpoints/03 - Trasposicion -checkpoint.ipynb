{
 "cells": [
  {
   "cell_type": "code",
   "execution_count": 8,
   "metadata": {},
   "outputs": [
    {
     "data": {
      "image/png": "[encoded data removed]",
      "text/plain": [
       "<IPython.core.display.Image object>"
      ]
     },
     "metadata": {
      "image/png": {
       "unconfined": true,
       "width": 200
      }
     },
     "output_type": "display_data"
    }
   ],
   "source": [
    "from IPython.core.display import Image, display\n",
    "url = 'https://masqueprogramar.files.wordpress.com/2018/04/matricestranspuestaswikipedia.png'\n",
    "display(Image(url, width=200, unconfined=True))\n",
    "\n",
    "#TRASPOSICION\n",
    "#Es voltear nuestro elementos, alterando en si el orden de la matriz.\n",
    "\n",
    "#¿Por qué nos interesa conocer una traspuesta?\n",
    "#R: Si a una matriz traspuesta, le aplicamos una traspuesta, nos devuelve nuestra matriz orignal.\n",
    "    #Por lo cual, si alguna vez tenemos que resolver un sistema de ecucaciones en una forma matricial y además \n",
    "    #supieramos hacer la operacion inversa, la traspuesta nos va a ayudar en ese tipo de operaciones.\n"
   ]
  },
  {
   "cell_type": "code",
   "execution_count": 9,
   "metadata": {},
   "outputs": [],
   "source": [
    "import numpy as np"
   ]
  },
  {
   "cell_type": "code",
   "execution_count": 10,
   "metadata": {},
   "outputs": [],
   "source": [
    "escalar = 5.679\n",
    "vector = np.array([1,2,3])\n",
    "matriz = np.array([ [1,2,3,4], [4,5,6,4] , [7,8,9,4] ])\n",
    "tensor = np.array([\n",
    "    [[1,2,3], [4,5,6], [7,8,9]],\n",
    "    [[100,110,120], [130,140,150], [160,170,180]],\n",
    "    [[190,200,210], [220,230,240], [250,255,255]],\n",
    "    \n",
    "])\n"
   ]
  },
  {
   "cell_type": "code",
   "execution_count": 14,
   "metadata": {},
   "outputs": [
    {
     "data": {
      "text/plain": [
       "array([1, 2, 3])"
      ]
     },
     "execution_count": 14,
     "metadata": {},
     "output_type": "execute_result"
    }
   ],
   "source": [
    "#escalar_traspuesta = escalar.T   <-- RECORDAR: Un escalar al no tener dimensiones, no tiene traspuestas\n",
    "\n",
    "vector_traspuesto = vector.T\n",
    "vector_traspuesto\n",
    "#para el vector da el mismo resultado que el original"
   ]
  },
  {
   "cell_type": "code",
   "execution_count": 15,
   "metadata": {},
   "outputs": [
    {
     "data": {
      "text/plain": [
       "array([[1, 2, 3, 4],\n",
       "       [4, 5, 6, 4],\n",
       "       [7, 8, 9, 4]])"
      ]
     },
     "execution_count": 15,
     "metadata": {},
     "output_type": "execute_result"
    }
   ],
   "source": [
    "matriz"
   ]
  },
  {
   "cell_type": "code",
   "execution_count": 16,
   "metadata": {},
   "outputs": [
    {
     "data": {
      "text/plain": [
       "array([[1, 4, 7],\n",
       "       [2, 5, 8],\n",
       "       [3, 6, 9],\n",
       "       [4, 4, 4]])"
      ]
     },
     "execution_count": 16,
     "metadata": {},
     "output_type": "execute_result"
    }
   ],
   "source": [
    "matriz_traspuesta = matriz.T\n",
    "matriz_traspuesta\n",
    "\n",
    "#Como podemos ver, cambia la matriz"
   ]
  },
  {
   "cell_type": "code",
   "execution_count": 17,
   "metadata": {},
   "outputs": [
    {
     "data": {
      "text/plain": [
       "array([[[  1,   2,   3],\n",
       "        [  4,   5,   6],\n",
       "        [  7,   8,   9]],\n",
       "\n",
       "       [[100, 110, 120],\n",
       "        [130, 140, 150],\n",
       "        [160, 170, 180]],\n",
       "\n",
       "       [[190, 200, 210],\n",
       "        [220, 230, 240],\n",
       "        [250, 255, 255]]])"
      ]
     },
     "execution_count": 17,
     "metadata": {},
     "output_type": "execute_result"
    }
   ],
   "source": [
    "tensor"
   ]
  },
  {
   "cell_type": "code",
   "execution_count": 19,
   "metadata": {},
   "outputs": [
    {
     "data": {
      "text/plain": [
       "array([[[  1, 100, 190],\n",
       "        [  4, 130, 220],\n",
       "        [  7, 160, 250]],\n",
       "\n",
       "       [[  2, 110, 200],\n",
       "        [  5, 140, 230],\n",
       "        [  8, 170, 255]],\n",
       "\n",
       "       [[  3, 120, 210],\n",
       "        [  6, 150, 240],\n",
       "        [  9, 180, 255]]])"
      ]
     },
     "execution_count": 19,
     "metadata": {},
     "output_type": "execute_result"
    }
   ],
   "source": [
    "tensor_traspuesto = tensor.T\n",
    "tensor_traspuesto\n"
   ]
  },
  {
   "cell_type": "code",
   "execution_count": 20,
   "metadata": {},
   "outputs": [
    {
     "data": {
      "text/plain": [
       "array([[[  1,   2,   3],\n",
       "        [  4,   5,   6],\n",
       "        [  7,   8,   9]],\n",
       "\n",
       "       [[100, 110, 120],\n",
       "        [130, 140, 150],\n",
       "        [160, 170, 180]],\n",
       "\n",
       "       [[190, 200, 210],\n",
       "        [220, 230, 240],\n",
       "        [250, 255, 255]]])"
      ]
     },
     "execution_count": 20,
     "metadata": {},
     "output_type": "execute_result"
    }
   ],
   "source": [
    "tensor_original = tensor_traspuesto.T\n",
    "tensor_original"
   ]
  },
  {
   "cell_type": "code",
   "execution_count": 22,
   "metadata": {},
   "outputs": [
    {
     "data": {
      "image/gif": "[encoded data removed]",
      "text/plain": [
       "<IPython.core.display.Image object>"
      ]
     },
     "metadata": {
      "image/gif": {
       "unconfined": true,
       "width": 300
      }
     },
     "output_type": "display_data"
    }
   ],
   "source": [
    "from IPython.core.display import Image, display\n",
    "url = 'https://www.ditutor.com/matrices/images/19_1.gif'\n",
    "display(Image(url, width=300, unconfined=True))\n",
    "\n",
    "#SUMA Y RESTA DE MATRICES"
   ]
  },
  {
   "cell_type": "code",
   "execution_count": 25,
   "metadata": {},
   "outputs": [],
   "source": [
    "A = matriz\n",
    "B = matriz_traspuesta"
   ]
  },
  {
   "cell_type": "code",
   "execution_count": 26,
   "metadata": {},
   "outputs": [
    {
     "ename": "ValueError",
     "evalue": "operands could not be broadcast together with shapes (3,4) (4,3) ",
     "output_type": "error",
     "traceback": [
      "\u001b[0;31m---------------------------------------------------------------------------\u001b[0m",
      "\u001b[0;31mValueError\u001b[0m                                Traceback (most recent call last)",
      "\u001b[0;32m<ipython-input-26-8845ff27cb45>\u001b[0m in \u001b[0;36m<module>\u001b[0;34m\u001b[0m\n\u001b[0;32m----> 1\u001b[0;31m \u001b[0mC\u001b[0m \u001b[0;34m=\u001b[0m \u001b[0mA\u001b[0m\u001b[0;34m+\u001b[0m\u001b[0mB\u001b[0m\u001b[0;34m\u001b[0m\u001b[0;34m\u001b[0m\u001b[0m\n\u001b[0m",
      "\u001b[0;31mValueError\u001b[0m: operands could not be broadcast together with shapes (3,4) (4,3) "
     ]
    }
   ],
   "source": [
    "#Acá nos dará error ya que para sumar 2 matrices estas tienen que tener las mismas dimensiones y al trasponer 'matriz'\n",
    "#esta cambió su orientación, para sumarlas necesitaremos hacer (broadcasting) el cual se explica en la sgte clase\n",
    "C = A+B"
   ]
  },
  {
   "cell_type": "code",
   "execution_count": 29,
   "metadata": {},
   "outputs": [
    {
     "name": "stdout",
     "output_type": "stream",
     "text": [
      "Matriz A = [[1 2]\n",
      " [3 4]\n",
      " [4 5]]\n",
      "\n",
      "Matriz B = [[ 6  7]\n",
      " [ 8  9]\n",
      " [10 11]]\n",
      "\n",
      "Matriz C = [[ 7  9]\n",
      " [11 13]\n",
      " [14 16]]\n"
     ]
    }
   ],
   "source": [
    "#Creando matrices para sumarlas\n",
    "A = np.array([[1,2],[3,4],[4,5]])\n",
    "B = np.array([[6,7],[8,9],[10,11]])\n",
    "C = A+B\n",
    "print('Matriz A = ' + str(A) )\n",
    "print('\\nMatriz B = '+ str(B))\n",
    "print('\\nMatriz C = '+ str(C))\n"
   ]
  },
  {
   "cell_type": "code",
   "execution_count": 33,
   "metadata": {},
   "outputs": [
    {
     "name": "stdout",
     "output_type": "stream",
     "text": [
      "Matriz original = \n",
      "[[1 2 3 4]\n",
      " [4 5 6 4]\n",
      " [7 8 9 4]]\n",
      "\n",
      "Matriz + Escalar = \n",
      "[[ 6.679  7.679  8.679  9.679]\n",
      " [ 9.679 10.679 11.679  9.679]\n",
      " [12.679 13.679 14.679  9.679]]\n"
     ]
    }
   ],
   "source": [
    "#Al sumar una matriz con un escalar, esta le suma el escalar a cada elemento\n",
    "D = matriz + escalar \n",
    "print('Matriz original = \\n' + str(matriz))\n",
    "print('\\nMatriz + Escalar = \\n'+ str(D))"
   ]
  },
  {
   "cell_type": "code",
   "execution_count": null,
   "metadata": {},
   "outputs": [],
   "source": []
  }
 ],
 "metadata": {
  "kernelspec": {
   "display_name": "Python 3",
   "language": "python",
   "name": "python3"
  },
  "language_info": {
   "codemirror_mode": {
    "name": "ipython",
    "version": 3
   },
   "file_extension": ".py",
   "mimetype": "text/x-python",
   "name": "python",
   "nbconvert_exporter": "python",
   "pygments_lexer": "ipython3",
   "version": "3.7.5"
  }
 },
 "nbformat": 4,
 "nbformat_minor": 2
}
